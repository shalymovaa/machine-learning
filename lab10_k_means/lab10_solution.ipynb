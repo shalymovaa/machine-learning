{
 "cells": [
  {
   "cell_type": "code",
   "execution_count": 182,
   "id": "e0cd168c-533d-4e89-83c0-c8e699e99b00",
   "metadata": {},
   "outputs": [
    {
     "name": "stdout",
     "output_type": "stream",
     "text": [
      "[4.52787538 5.8541781 ]\n"
     ]
    },
    {
     "data": {
      "image/png": "[encoded data removed]",
      "text/plain": [
       "<Figure size 640x480 with 1 Axes>"
      ]
     },
     "metadata": {},
     "output_type": "display_data"
    }
   ],
   "source": [
    "from mat4py import loadmat\n",
    "import matplotlib.pyplot as plt\n",
    "import numpy as np\n",
    "import math\n",
    "import random\n",
    "data = loadmat('ex7data1.mat')\n",
    "X=np.array(data['X'])\n",
    "centroids=[]\n",
    "print(X[1])\n",
    "for i in range(len(X)):\n",
    "    plt.plot(X[i][0],X[i][1],'x')"
   ]
  },
  {
   "cell_type": "code",
   "execution_count": 183,
   "id": "4d49520e-b919-4a9f-b7cc-2702cc984d34",
   "metadata": {},
   "outputs": [
    {
     "name": "stdout",
     "output_type": "stream",
     "text": [
      "[array([[1, 2],\n",
      "       [2, 4],\n",
      "       [4, 5]])]\n"
     ]
    }
   ],
   "source": [
    "k=3 # defining number of clusters\n",
    "C=[]\n",
    "for i in range(k):  #  randomly choosing centroids \n",
    "    C.append(np.random.randint(1,6,2))\n",
    "C=np.array(C)\n",
    "centroids.append(C)\n",
    "print(centroids)"
   ]
  },
  {
   "cell_type": "code",
   "execution_count": 184,
   "id": "cb9e26ff-fbd0-465b-9b82-68beeec6dad2",
   "metadata": {},
   "outputs": [],
   "source": [
    "def distance(C,k):\n",
    "    clus={}\n",
    "    for i in range (len(X)):\n",
    "        d=[]\n",
    "        for j in range(k):\n",
    "            d.append(np.sum(np.fabs(X[i]-C[j])))\n",
    "        mind=min(d)\n",
    "        ind=d.index(min(d))\n",
    "        clus[i]=ind  # i-data point, ind- which cluster\n",
    "    return clus\n"
   ]
  },
  {
   "cell_type": "code",
   "execution_count": 185,
   "id": "d6f59080-1798-4d0e-ad89-bc2533803a3d",
   "metadata": {},
   "outputs": [
    {
     "name": "stdout",
     "output_type": "stream",
     "text": [
      "{0: 1, 1: 2, 2: 1, 3: 1, 4: 1, 5: 2, 6: 1, 7: 2, 8: 2, 9: 2, 10: 2, 11: 2, 12: 2, 13: 2, 14: 1, 15: 2, 16: 2, 17: 1, 18: 2, 19: 2, 20: 2, 21: 2, 22: 2, 23: 2, 24: 1, 25: 2, 26: 2, 27: 2, 28: 2, 29: 2, 30: 2, 31: 2, 32: 1, 33: 2, 34: 2, 35: 2, 36: 1, 37: 2, 38: 1, 39: 2, 40: 2, 41: 2, 42: 1, 43: 2, 44: 1, 45: 2, 46: 0, 47: 1, 48: 2, 49: 2}\n",
      "[array([1.18023321, 2.87869409])]\n"
     ]
    }
   ],
   "source": [
    "clus=distance(C,k)\n",
    "print(clus)\n",
    "x1=[]\n",
    "x2=[]\n",
    "x3=[]\n",
    "def collection(clus):\n",
    "    for i in range(len(clus)):\n",
    "        if clus[i]==0:\n",
    "            x1.append(X[i])\n",
    "            \n",
    "        elif clus[i]==1:\n",
    "            x2.append(X[i])\n",
    "            \n",
    "        elif clus[i]==2:\n",
    "            x3.append(X[i])\n",
    "        \n",
    "            \n",
    "    return x1,x2,x3\n",
    "x1,x2,x3=collection(clus)\n",
    "print(x1)\n",
    "        "
   ]
  },
  {
   "cell_type": "code",
   "execution_count": 186,
   "id": "fc84bdc7-079c-4830-a772-5e5a33131cd5",
   "metadata": {},
   "outputs": [
    {
     "name": "stdout",
     "output_type": "stream",
     "text": [
      "[array([1.18023321, 2.87869409]), array([2.77433985, 3.9135408 ]), array([4.55549351, 5.49920078])]\n"
     ]
    }
   ],
   "source": [
    "c=[]\n",
    "def centroid(x1,x2,x3):\n",
    "    c1=np.sum(x1,axis=0)/len(x1)\n",
    "    c2=np.sum(x2,axis=0)/len(x2)\n",
    "    c3=np.sum(x3,axis=0)/len(x3)\n",
    "    c.append(c1)\n",
    "    c.append(c2)\n",
    "    c.append(c3)\n",
    "    return c\n",
    "c=centroid(x1,x2,x3)\n",
    "centroids.append(c)\n",
    "print(c)\n"
   ]
  },
  {
   "cell_type": "code",
   "execution_count": 187,
   "id": "f9c06722-e4f0-428c-a889-e88705f4bf7d",
   "metadata": {},
   "outputs": [
    {
     "name": "stdout",
     "output_type": "stream",
     "text": [
      "[[0.30843197 0.18442238]\n",
      " [0.14560508 0.2220936 ]\n",
      " [0.18150229 0.10429196]]\n",
      "[0.30843197 0.18442238]\n",
      "[0.14560508 0.2220936 ]\n",
      "[0.18150229 0.10429196]\n",
      "[[0.         0.        ]\n",
      " [0.08921272 0.05457048]\n",
      " [0.06686414 0.06547854]]\n",
      "[0. 0.]\n",
      "[0.08921272 0.05457048]\n",
      "[0.06686414 0.06547854]\n"
     ]
    }
   ],
   "source": [
    "dif=1\n",
    "while dif>0.001:\n",
    "    clus=distance(c,k)\n",
    "    x1=[]\n",
    "    x2=[]\n",
    "    x3=[]\n",
    "    x1,x2,x3=collection(clus)\n",
    "    c=[]\n",
    "    c=centroid(x1,x2,x3)\n",
    "    centroids.append(c)\n",
    "    d=np.fabs(np.subtract(centroids[-1],centroids[-2]))\n",
    "    print(d)\n",
    "    for i in d:\n",
    "        print(i)\n",
    "        if i[0]<0.001 and i[1]<0.001:\n",
    "            dif=i[0]"
   ]
  },
  {
   "cell_type": "code",
   "execution_count": 167,
   "id": "e266bc99-31b3-4dd2-814b-144e038ad34e",
   "metadata": {},
   "outputs": [
    {
     "name": "stdout",
     "output_type": "stream",
     "text": [
      "[array([[2, 5],\n",
      "       [4, 4],\n",
      "       [1, 5]]), [array([2.65802204, 4.71594219]), array([4.27802087, 5.10119055]), array([1.18023321, 2.87869409])], [array([2.91994493, 4.1356344 ]), array([4.73699581, 5.60349274]), array([1.48866517, 3.06311647])], [array([3.00915764, 4.19020487]), array([4.80385995, 5.66897128]), array([1.48866517, 3.06311647])]]\n"
     ]
    }
   ],
   "source": [
    "print(centroids)"
   ]
  },
  {
   "cell_type": "code",
   "execution_count": 190,
   "id": "243f1dd1-4b1a-44ec-857e-0c5ff5ad0ba9",
   "metadata": {},
   "outputs": [
    {
     "data": {
      "text/plain": [
       "[<matplotlib.lines.Line2D at 0x114edd950>]"
      ]
     },
     "execution_count": 190,
     "metadata": {},
     "output_type": "execute_result"
    },
    {
     "data": {
      "image/png": "[encoded data removed]",
      "text/plain": [
       "<Figure size 640x480 with 1 Axes>"
      ]
     },
     "metadata": {},
     "output_type": "display_data"
    }
   ],
   "source": [
    "\n",
    "for i in range(len(x1)):\n",
    "    plt.plot(x1[i][0],x1[i][1],'rx')\n",
    "for i in range(len(x2)):\n",
    "    plt.plot(x2[i][0],x2[i][1],'bx')\n",
    "for i in range(len(x3)):\n",
    "    plt.plot(x3[i][0],x3[i][1],'yx')\n",
    "plt.plot(3.00915764, 4.19020487,'bo')\n",
    "plt.plot(4.80385995, 5.66897128,'yo')\n",
    "plt.plot(1.48866517, 3.06311647,'ro')"
   ]
  },
  {
   "cell_type": "code",
   "execution_count": null,
   "id": "ae8c3916-4178-4b8c-9428-49c40ff3f350",
   "metadata": {},
   "outputs": [],
   "source": []
  }
 ],
 "metadata": {
  "kernelspec": {
   "display_name": "Python 3 (ipykernel)",
   "language": "python",
   "name": "python3"
  },
  "language_info": {
   "codemirror_mode": {
    "name": "ipython",
    "version": 3
   },
   "file_extension": ".py",
   "mimetype": "text/x-python",
   "name": "python",
   "nbconvert_exporter": "python",
   "pygments_lexer": "ipython3",
   "version": "3.11.5"
  }
 },
 "nbformat": 4,
 "nbformat_minor": 5
}
