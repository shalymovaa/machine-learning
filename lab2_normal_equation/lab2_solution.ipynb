{
 "cells": [
  {
   "cell_type": "code",
   "execution_count": 98,
   "metadata": {},
   "outputs": [
    {
     "name": "stdout",
     "output_type": "stream",
     "text": [
      "340397.212634948 175391.30152182438 67291.00961468875\n"
     ]
    },
    {
     "data": {
      "text/plain": [
       "[<matplotlib.lines.Line2D at 0x1538327d040>]"
      ]
     },
     "execution_count": 98,
     "metadata": {},
     "output_type": "execute_result"
    },
    {
     "data": {
      "image/png": "[encoded data removed]",
      "text/plain": [
       "<Figure size 432x288 with 1 Axes>"
      ]
     },
     "metadata": {
      "needs_background": "light"
     },
     "output_type": "display_data"
    }
   ],
   "source": [
    "#Gradient descent with mean normalization\n",
    "import matplotlib.pyplot as plt\n",
    "import csv\n",
    "import numpy as np\n",
    "path='C:\\\\Users\\shaly\\Desktop\\dataset2.txt'\n",
    "tet0=1\n",
    "tet1=2\n",
    "tet2=5\n",
    "a=0.0001\n",
    "n=100000\n",
    "m=47\n",
    "X = []\n",
    "Y = []\n",
    "Z = []\n",
    "sj=[]\n",
    "cnt=0\n",
    "\n",
    "with open(path, 'r') as datafile:\n",
    "    plotting = csv.reader(datafile, delimiter=',')\n",
    "    for ROWS in plotting:\n",
    "        X.append(float(ROWS[0]))\n",
    "        Y.append(float(ROWS[1]))\n",
    "        Z.append(float(ROWS[2]))\n",
    "        \n",
    "average_x=sum(X)/len(X)\n",
    "average_y=sum(Y)/len(Y)\n",
    "s1=max(X)-min(X)\n",
    "s2=max(Y)-min(Y)\n",
    "\n",
    "\n",
    "while cnt!=n:\n",
    "    cnt=cnt+1\n",
    "    dtet0=[]\n",
    "    dtet1=[]\n",
    "    dtet2=[]\n",
    "    for j in range (len(X)):\n",
    "        ms=(tet0+tet1*((X[j]-average_x)/s1)+tet2*((Y[j]-average_y)/s2)-Z[j])*1\n",
    "        ms1=(tet0+tet1*((X[j]-average_x)/s1)+tet2*((Y[j]-average_y)/s2)-Z[j])*(X[j]-average_x)/s1\n",
    "        ms2=(tet0+tet1*((X[j]-average_x)/s1)+tet2*((Y[j]-average_y)/s2)-Z[j])*(Y[j]-average_y)/s2\n",
    "        dtet0.append(ms)\n",
    "        dtet1.append(ms1)\n",
    "        dtet2.append(ms2)\n",
    "        \n",
    "    temp0=tet0-a/m*sum(dtet0)\n",
    "    temp1=tet1-a/m*sum(dtet1)\n",
    "    temp2=tet2-a/m*sum(dtet2)\n",
    "    tet0=temp0\n",
    "    tet1=temp1\n",
    "    tet2=temp2\n",
    "    \n",
    "    J=[]\n",
    "    for k in range (len(X)):\n",
    "        mj=(tet0+tet1*((X[k]-average_x)/s1)+tet2*((Y[k]-average_y)/s2)-Z[k])**2\n",
    "        J.append(mj)\n",
    "    s=1/(2*m)*sum(J)\n",
    "    sj.append(s)\n",
    "    \n",
    "print(tet0,tet1,tet2) \n",
    "plt.plot(np.linspace(0,n-1,n),sj)"
   ]
  },
  {
   "cell_type": "code",
   "execution_count": 64,
   "metadata": {},
   "outputs": [
    {
     "name": "stdout",
     "output_type": "stream",
     "text": [
      "[89597.9095428    139.21067402 -8738.01911233]\n"
     ]
    }
   ],
   "source": [
    "#Normal equation\n",
    "import matplotlib.pyplot as plt\n",
    "import csv\n",
    "import numpy as np\n",
    "import math\n",
    "n=2\n",
    "m=47\n",
    "X=np.zeros((m,n+1))\n",
    "path='C:\\\\Users\\shaly\\Desktop\\dataset2.txt'\n",
    "x1=[]\n",
    "x2=[]\n",
    "y=[]\n",
    "with open(path, 'r') as datafile:\n",
    "    plotting = csv.reader(datafile, delimiter=',')\n",
    "    for ROWS in plotting:\n",
    "        x1.append(float(ROWS[0]))\n",
    "        x2.append(float(ROWS[1]))\n",
    "        y.append(float(ROWS[2]))\n",
    "for i in range(m):\n",
    "    X[i][0]=1\n",
    "    X[i][1]=x1[i]\n",
    "    X[i][2]=x2[i]\n",
    "X_tr=np.transpose(X)\n",
    "x_transpose_dot_x = X_tr.dot(X) \n",
    "temp_1 = np.linalg.inv(x_transpose_dot_x)\n",
    "temp_2 = X_tr.dot(y)  \n",
    "theta= temp_1.dot(temp_2)\n",
    "print(theta)\n",
    "    "
   ]
  },
  {
   "cell_type": "code",
   "execution_count": null,
   "metadata": {},
   "outputs": [],
   "source": [
    "R"
   ]
  }
 ],
 "metadata": {
  "kernelspec": {
   "display_name": "Python 3",
   "language": "python",
   "name": "python3"
  },
  "language_info": {
   "codemirror_mode": {
    "name": "ipython",
    "version": 3
   },
   "file_extension": ".py",
   "mimetype": "text/x-python",
   "name": "python",
   "nbconvert_exporter": "python",
   "pygments_lexer": "ipython3",
   "version": "3.8.3"
  }
 },
 "nbformat": 4,
 "nbformat_minor": 4
}
