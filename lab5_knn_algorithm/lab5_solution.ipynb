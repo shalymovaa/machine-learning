{
 "cells": [
  {
   "cell_type": "code",
   "execution_count": 2,
   "id": "03af4306-4799-4ad8-b611-6afcf6a26a1e",
   "metadata": {},
   "outputs": [
    {
     "name": "stdout",
     "output_type": "stream",
     "text": [
      "this point belongs to class # 7\n"
     ]
    }
   ],
   "source": [
    "import pandas as pd\n",
    "import numpy as np\n",
    "import math\n",
    "df = pd.read_csv('/Users/asik/Downloads/glass2.csv')\n",
    "per=0.7\n",
    "per2=0.3\n",
    "df_shuffled = df.sample(frac=1, random_state=0)\n",
    "df1=df_shuffled.head(int(len(df)*per))\n",
    "df2=df_shuffled.tail(int(len(df)*per2))\n",
    "n1=df1.to_numpy()\n",
    "n2=df2.to_numpy()\n",
    "y=list(df1['y'])\n",
    "\n",
    "def distance(i):\n",
    "    D=[]\n",
    "    for j in range(len(df1)):\n",
    "        d=0\n",
    "        for k in range(df1.shape[1]):\n",
    "            d+=(n1[j][k]-n2[i][k])**2\n",
    "        D.append(math.sqrt(d))\n",
    "    #pd.set_option('display.max_rows', None)\n",
    "    ds=pd.Series(D,index=y)\n",
    "    close_point=ds.sort_values(ascending=True)\n",
    "    ind=[]\n",
    "    for i, v in close_point[:5].items():\n",
    "        ind.append(i)\n",
    "    s = pd.Series(ind)\n",
    "    mode = s.mode()[0]\n",
    "    return mode\n",
    "\n",
    "print('this point belongs to class #',distance(60))\n"
   ]
  },
  {
   "cell_type": "code",
   "execution_count": null,
   "id": "10742772-d121-4266-8fac-7d943e5af3bf",
   "metadata": {},
   "outputs": [],
   "source": []
  }
 ],
 "metadata": {
  "kernelspec": {
   "display_name": "Python 3 (ipykernel)",
   "language": "python",
   "name": "python3"
  },
  "language_info": {
   "codemirror_mode": {
    "name": "ipython",
    "version": 3
   },
   "file_extension": ".py",
   "mimetype": "text/x-python",
   "name": "python",
   "nbconvert_exporter": "python",
   "pygments_lexer": "ipython3",
   "version": "3.11.5"
  }
 },
 "nbformat": 4,
 "nbformat_minor": 5
}
